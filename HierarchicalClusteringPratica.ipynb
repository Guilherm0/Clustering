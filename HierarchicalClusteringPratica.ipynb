{
  "nbformat": 4,
  "nbformat_minor": 0,
  "metadata": {
    "colab": {
      "provenance": [],
      "toc_visible": true,
      "include_colab_link": true
    },
    "kernelspec": {
      "name": "python3",
      "display_name": "Python 3"
    },
    "language_info": {
      "name": "python"
    },
    "widgets": {
      "application/vnd.jupyter.widget-state+json": {
        "82444cfc97a548149615e37cdf900373": {
          "model_module": "@jupyter-widgets/controls",
          "model_name": "VBoxModel",
          "model_module_version": "1.5.0",
          "state": {
            "_dom_classes": [
              "widget-interact"
            ],
            "_model_module": "@jupyter-widgets/controls",
            "_model_module_version": "1.5.0",
            "_model_name": "VBoxModel",
            "_view_count": null,
            "_view_module": "@jupyter-widgets/controls",
            "_view_module_version": "1.5.0",
            "_view_name": "VBoxView",
            "box_style": "",
            "children": [
              "IPY_MODEL_6b7b9efe3cf140dbb254db34afe50165",
              "IPY_MODEL_787bc3f2d8224b549d0b42b01ea17595"
            ],
            "layout": "IPY_MODEL_201adfcc2346420fb141afd28147d490"
          }
        },
        "6b7b9efe3cf140dbb254db34afe50165": {
          "model_module": "@jupyter-widgets/controls",
          "model_name": "DropdownModel",
          "model_module_version": "1.5.0",
          "state": {
            "_dom_classes": [],
            "_model_module": "@jupyter-widgets/controls",
            "_model_module_version": "1.5.0",
            "_model_name": "DropdownModel",
            "_options_labels": [
              "single",
              "complete",
              "centroid",
              "ward"
            ],
            "_view_count": null,
            "_view_module": "@jupyter-widgets/controls",
            "_view_module_version": "1.5.0",
            "_view_name": "DropdownView",
            "description": "method",
            "description_tooltip": null,
            "disabled": false,
            "index": 0,
            "layout": "IPY_MODEL_f21aa62c2534481e8a8c9d055f3d9a9e",
            "style": "IPY_MODEL_df5ea6458c694bafbfa0b3cb60743cfd"
          }
        },
        "787bc3f2d8224b549d0b42b01ea17595": {
          "model_module": "@jupyter-widgets/output",
          "model_name": "OutputModel",
          "model_module_version": "1.0.0",
          "state": {
            "_dom_classes": [],
            "_model_module": "@jupyter-widgets/output",
            "_model_module_version": "1.0.0",
            "_model_name": "OutputModel",
            "_view_count": null,
            "_view_module": "@jupyter-widgets/output",
            "_view_module_version": "1.0.0",
            "_view_name": "OutputView",
            "layout": "IPY_MODEL_fe2af09f13cb4e4cb6bf1190f139800e",
            "msg_id": "",
            "outputs": [
              {
                "output_type": "display_data",
                "data": {
                  "text/plain": "<Figure size 864x576 with 1 Axes>",
                  "image/png": "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\n"
                },
                "metadata": {}
              }
            ]
          }
        },
        "201adfcc2346420fb141afd28147d490": {
          "model_module": "@jupyter-widgets/base",
          "model_name": "LayoutModel",
          "model_module_version": "1.2.0",
          "state": {
            "_model_module": "@jupyter-widgets/base",
            "_model_module_version": "1.2.0",
            "_model_name": "LayoutModel",
            "_view_count": null,
            "_view_module": "@jupyter-widgets/base",
            "_view_module_version": "1.2.0",
            "_view_name": "LayoutView",
            "align_content": null,
            "align_items": null,
            "align_self": null,
            "border": null,
            "bottom": null,
            "display": null,
            "flex": null,
            "flex_flow": null,
            "grid_area": null,
            "grid_auto_columns": null,
            "grid_auto_flow": null,
            "grid_auto_rows": null,
            "grid_column": null,
            "grid_gap": null,
            "grid_row": null,
            "grid_template_areas": null,
            "grid_template_columns": null,
            "grid_template_rows": null,
            "height": null,
            "justify_content": null,
            "justify_items": null,
            "left": null,
            "margin": null,
            "max_height": null,
            "max_width": null,
            "min_height": null,
            "min_width": null,
            "object_fit": null,
            "object_position": null,
            "order": null,
            "overflow": null,
            "overflow_x": null,
            "overflow_y": null,
            "padding": null,
            "right": null,
            "top": null,
            "visibility": null,
            "width": null
          }
        },
        "f21aa62c2534481e8a8c9d055f3d9a9e": {
          "model_module": "@jupyter-widgets/base",
          "model_name": "LayoutModel",
          "model_module_version": "1.2.0",
          "state": {
            "_model_module": "@jupyter-widgets/base",
            "_model_module_version": "1.2.0",
            "_model_name": "LayoutModel",
            "_view_count": null,
            "_view_module": "@jupyter-widgets/base",
            "_view_module_version": "1.2.0",
            "_view_name": "LayoutView",
            "align_content": null,
            "align_items": null,
            "align_self": null,
            "border": null,
            "bottom": null,
            "display": null,
            "flex": null,
            "flex_flow": null,
            "grid_area": null,
            "grid_auto_columns": null,
            "grid_auto_flow": null,
            "grid_auto_rows": null,
            "grid_column": null,
            "grid_gap": null,
            "grid_row": null,
            "grid_template_areas": null,
            "grid_template_columns": null,
            "grid_template_rows": null,
            "height": null,
            "justify_content": null,
            "justify_items": null,
            "left": null,
            "margin": null,
            "max_height": null,
            "max_width": null,
            "min_height": null,
            "min_width": null,
            "object_fit": null,
            "object_position": null,
            "order": null,
            "overflow": null,
            "overflow_x": null,
            "overflow_y": null,
            "padding": null,
            "right": null,
            "top": null,
            "visibility": null,
            "width": null
          }
        },
        "df5ea6458c694bafbfa0b3cb60743cfd": {
          "model_module": "@jupyter-widgets/controls",
          "model_name": "DescriptionStyleModel",
          "model_module_version": "1.5.0",
          "state": {
            "_model_module": "@jupyter-widgets/controls",
            "_model_module_version": "1.5.0",
            "_model_name": "DescriptionStyleModel",
            "_view_count": null,
            "_view_module": "@jupyter-widgets/base",
            "_view_module_version": "1.2.0",
            "_view_name": "StyleView",
            "description_width": ""
          }
        },
        "fe2af09f13cb4e4cb6bf1190f139800e": {
          "model_module": "@jupyter-widgets/base",
          "model_name": "LayoutModel",
          "model_module_version": "1.2.0",
          "state": {
            "_model_module": "@jupyter-widgets/base",
            "_model_module_version": "1.2.0",
            "_model_name": "LayoutModel",
            "_view_count": null,
            "_view_module": "@jupyter-widgets/base",
            "_view_module_version": "1.2.0",
            "_view_name": "LayoutView",
            "align_content": null,
            "align_items": null,
            "align_self": null,
            "border": null,
            "bottom": null,
            "display": null,
            "flex": null,
            "flex_flow": null,
            "grid_area": null,
            "grid_auto_columns": null,
            "grid_auto_flow": null,
            "grid_auto_rows": null,
            "grid_column": null,
            "grid_gap": null,
            "grid_row": null,
            "grid_template_areas": null,
            "grid_template_columns": null,
            "grid_template_rows": null,
            "height": null,
            "justify_content": null,
            "justify_items": null,
            "left": null,
            "margin": null,
            "max_height": null,
            "max_width": null,
            "min_height": null,
            "min_width": null,
            "object_fit": null,
            "object_position": null,
            "order": null,
            "overflow": null,
            "overflow_x": null,
            "overflow_y": null,
            "padding": null,
            "right": null,
            "top": null,
            "visibility": null,
            "width": null
          }
        }
      }
    }
  },
  "cells": [
    {
      "cell_type": "markdown",
      "metadata": {
        "id": "view-in-github",
        "colab_type": "text"
      },
      "source": [
        "<a href=\"https://colab.research.google.com/github/Guilherm0/Clustering/blob/main/HierarchicalClusteringPratica.ipynb\" target=\"_parent\"><img src=\"https://colab.research.google.com/assets/colab-badge.svg\" alt=\"Open In Colab\"/></a>"
      ]
    },
    {
      "cell_type": "markdown",
      "metadata": {
        "id": "FOmGk5LCUcKe"
      },
      "source": [
        "# Setup"
      ]
    },
    {
      "cell_type": "code",
      "source": [
        "%%capture\n",
        "%pip install kmodes"
      ],
      "metadata": {
        "id": "9gHSo9BkqL41"
      },
      "execution_count": null,
      "outputs": []
    },
    {
      "cell_type": "code",
      "metadata": {
        "id": "tWZ4FbaRVYix"
      },
      "source": [
        "# Data wrangling\n",
        "import numpy as np\n",
        "import pandas as pd\n",
        "\n",
        "# Dataviz\n",
        "import seaborn as sns\n",
        "import matplotlib.pyplot as plt\n",
        "import plotly.express as px\n",
        "import plotly.graph_objects as go\n",
        "\n",
        "from yellowbrick.cluster import KElbowVisualizer, SilhouetteVisualizer, InterclusterDistance, kelbow_visualizer, silhouette_visualizer\n",
        "\n",
        "## -- Machine learning -- ##\n",
        "from sklearn import datasets\n",
        "from sklearn.cluster import estimate_bandwidth\n",
        "from sklearn.metrics import silhouette_score, davies_bouldin_score, calinski_harabasz_score\n",
        "from sklearn.decomposition import PCA\n",
        "from sklearn.preprocessing import scale\n",
        "\n",
        "from sklearn.cluster import AgglomerativeClustering\n",
        "from scipy.cluster.hierarchy import linkage, dendrogram, fcluster\n",
        "\n",
        "from kmodes.kmodes import KModes            # clustering categorical data\n",
        "from kmodes.kprototypes import KPrototypes  # clustering mixed data\n",
        "\n",
        "# Didatic purposes\n",
        "import string\n",
        "from ipywidgets import interact"
      ],
      "execution_count": null,
      "outputs": []
    },
    {
      "cell_type": "code",
      "source": [
        "# https://matplotlib.org/stable/tutorials/introductory/customizing.html\n",
        "sns.set_theme(\n",
        "    context='talk',\n",
        "    style='ticks',\n",
        "    font_scale=.8,\n",
        "    palette='tab10',\n",
        "    rc={\n",
        "        'figure.figsize': (12,8),\n",
        "        'axes.grid': True,\n",
        "        'grid.alpha': .2,\n",
        "        'axes.titlesize': 'x-large',\n",
        "        'axes.titleweight': 'bold',\n",
        "        'axes.titlepad': 20,\n",
        "    }\n",
        ")\n",
        "\n",
        "scatter_kwargs = dict(palette='viridis', alpha=0.8, linewidth=0)"
      ],
      "metadata": {
        "id": "eIhZcGMY_whv"
      },
      "execution_count": null,
      "outputs": []
    },
    {
      "cell_type": "markdown",
      "metadata": {
        "id": "MrtClblAUkxA"
      },
      "source": [
        "# Hierarchical clustering"
      ]
    },
    {
      "cell_type": "code",
      "source": [
        "# Simulate clusters\n",
        "X,y = datasets.make_blobs(n_samples=80, n_features=2, centers=4, cluster_std=.6, random_state=0)\n",
        "df = pd.DataFrame(X, columns=list(string.ascii_uppercase[:X.shape[1]]))\n",
        "df.head()"
      ],
      "metadata": {
        "colab": {
          "base_uri": "https://localhost:8080/",
          "height": 206
        },
        "id": "lbZorqsmcoYd",
        "outputId": "05a1d90e-9e67-4d7b-e6d8-8091d018010a"
      },
      "execution_count": null,
      "outputs": [
        {
          "output_type": "execute_result",
          "data": {
            "text/plain": [
              "          A         B\n",
              "0 -1.710205  8.159010\n",
              "1 -0.397014  2.109227\n",
              "2 -1.148252  8.216479\n",
              "3  2.334665 -0.024083\n",
              "4 -1.347961  3.713714"
            ],
            "text/html": [
              "\n",
              "  <div id=\"df-686ebcec-0430-470e-b777-2a04955ecfba\">\n",
              "    <div class=\"colab-df-container\">\n",
              "      <div>\n",
              "<style scoped>\n",
              "    .dataframe tbody tr th:only-of-type {\n",
              "        vertical-align: middle;\n",
              "    }\n",
              "\n",
              "    .dataframe tbody tr th {\n",
              "        vertical-align: top;\n",
              "    }\n",
              "\n",
              "    .dataframe thead th {\n",
              "        text-align: right;\n",
              "    }\n",
              "</style>\n",
              "<table border=\"1\" class=\"dataframe\">\n",
              "  <thead>\n",
              "    <tr style=\"text-align: right;\">\n",
              "      <th></th>\n",
              "      <th>A</th>\n",
              "      <th>B</th>\n",
              "    </tr>\n",
              "  </thead>\n",
              "  <tbody>\n",
              "    <tr>\n",
              "      <th>0</th>\n",
              "      <td>-1.710205</td>\n",
              "      <td>8.159010</td>\n",
              "    </tr>\n",
              "    <tr>\n",
              "      <th>1</th>\n",
              "      <td>-0.397014</td>\n",
              "      <td>2.109227</td>\n",
              "    </tr>\n",
              "    <tr>\n",
              "      <th>2</th>\n",
              "      <td>-1.148252</td>\n",
              "      <td>8.216479</td>\n",
              "    </tr>\n",
              "    <tr>\n",
              "      <th>3</th>\n",
              "      <td>2.334665</td>\n",
              "      <td>-0.024083</td>\n",
              "    </tr>\n",
              "    <tr>\n",
              "      <th>4</th>\n",
              "      <td>-1.347961</td>\n",
              "      <td>3.713714</td>\n",
              "    </tr>\n",
              "  </tbody>\n",
              "</table>\n",
              "</div>\n",
              "      <button class=\"colab-df-convert\" onclick=\"convertToInteractive('df-686ebcec-0430-470e-b777-2a04955ecfba')\"\n",
              "              title=\"Convert this dataframe to an interactive table.\"\n",
              "              style=\"display:none;\">\n",
              "        \n",
              "  <svg xmlns=\"http://www.w3.org/2000/svg\" height=\"24px\"viewBox=\"0 0 24 24\"\n",
              "       width=\"24px\">\n",
              "    <path d=\"M0 0h24v24H0V0z\" fill=\"none\"/>\n",
              "    <path d=\"M18.56 5.44l.94 2.06.94-2.06 2.06-.94-2.06-.94-.94-2.06-.94 2.06-2.06.94zm-11 1L8.5 8.5l.94-2.06 2.06-.94-2.06-.94L8.5 2.5l-.94 2.06-2.06.94zm10 10l.94 2.06.94-2.06 2.06-.94-2.06-.94-.94-2.06-.94 2.06-2.06.94z\"/><path d=\"M17.41 7.96l-1.37-1.37c-.4-.4-.92-.59-1.43-.59-.52 0-1.04.2-1.43.59L10.3 9.45l-7.72 7.72c-.78.78-.78 2.05 0 2.83L4 21.41c.39.39.9.59 1.41.59.51 0 1.02-.2 1.41-.59l7.78-7.78 2.81-2.81c.8-.78.8-2.07 0-2.86zM5.41 20L4 18.59l7.72-7.72 1.47 1.35L5.41 20z\"/>\n",
              "  </svg>\n",
              "      </button>\n",
              "      \n",
              "  <style>\n",
              "    .colab-df-container {\n",
              "      display:flex;\n",
              "      flex-wrap:wrap;\n",
              "      gap: 12px;\n",
              "    }\n",
              "\n",
              "    .colab-df-convert {\n",
              "      background-color: #E8F0FE;\n",
              "      border: none;\n",
              "      border-radius: 50%;\n",
              "      cursor: pointer;\n",
              "      display: none;\n",
              "      fill: #1967D2;\n",
              "      height: 32px;\n",
              "      padding: 0 0 0 0;\n",
              "      width: 32px;\n",
              "    }\n",
              "\n",
              "    .colab-df-convert:hover {\n",
              "      background-color: #E2EBFA;\n",
              "      box-shadow: 0px 1px 2px rgba(60, 64, 67, 0.3), 0px 1px 3px 1px rgba(60, 64, 67, 0.15);\n",
              "      fill: #174EA6;\n",
              "    }\n",
              "\n",
              "    [theme=dark] .colab-df-convert {\n",
              "      background-color: #3B4455;\n",
              "      fill: #D2E3FC;\n",
              "    }\n",
              "\n",
              "    [theme=dark] .colab-df-convert:hover {\n",
              "      background-color: #434B5C;\n",
              "      box-shadow: 0px 1px 3px 1px rgba(0, 0, 0, 0.15);\n",
              "      filter: drop-shadow(0px 1px 2px rgba(0, 0, 0, 0.3));\n",
              "      fill: #FFFFFF;\n",
              "    }\n",
              "  </style>\n",
              "\n",
              "      <script>\n",
              "        const buttonEl =\n",
              "          document.querySelector('#df-686ebcec-0430-470e-b777-2a04955ecfba button.colab-df-convert');\n",
              "        buttonEl.style.display =\n",
              "          google.colab.kernel.accessAllowed ? 'block' : 'none';\n",
              "\n",
              "        async function convertToInteractive(key) {\n",
              "          const element = document.querySelector('#df-686ebcec-0430-470e-b777-2a04955ecfba');\n",
              "          const dataTable =\n",
              "            await google.colab.kernel.invokeFunction('convertToInteractive',\n",
              "                                                     [key], {});\n",
              "          if (!dataTable) return;\n",
              "\n",
              "          const docLinkHtml = 'Like what you see? Visit the ' +\n",
              "            '<a target=\"_blank\" href=https://colab.research.google.com/notebooks/data_table.ipynb>data table notebook</a>'\n",
              "            + ' to learn more about interactive tables.';\n",
              "          element.innerHTML = '';\n",
              "          dataTable['output_type'] = 'display_data';\n",
              "          await google.colab.output.renderOutput(dataTable, element);\n",
              "          const docLink = document.createElement('div');\n",
              "          docLink.innerHTML = docLinkHtml;\n",
              "          element.appendChild(docLink);\n",
              "        }\n",
              "      </script>\n",
              "    </div>\n",
              "  </div>\n",
              "  "
            ]
          },
          "metadata": {},
          "execution_count": 27
        }
      ]
    },
    {
      "cell_type": "code",
      "source": [
        "# Hierarchical clustering with sklearn\n",
        "model = AgglomerativeClustering(n_clusters=4)\n",
        "labels = model.fit_predict(X)"
      ],
      "metadata": {
        "id": "L7OH83BVdq10"
      },
      "execution_count": null,
      "outputs": []
    },
    {
      "cell_type": "code",
      "source": [
        "sns.scatterplot(data=df, x='A', y='B', hue=y, **scatter_kwargs);"
      ],
      "metadata": {
        "colab": {
          "base_uri": "https://localhost:8080/",
          "height": 513
        },
        "id": "7hpG4KXYSZ1o",
        "outputId": "72a59fa3-c708-4fe8-f4c3-46f93172e8bf"
      },
      "execution_count": null,
      "outputs": [
        {
          "output_type": "display_data",
          "data": {
            "text/plain": [
              "<Figure size 864x576 with 1 Axes>"
            ],
            "image/png": "[encoded data removed]"
          },
          "metadata": {}
        }
      ]
    },
    {
      "cell_type": "code",
      "source": [
        "sns.scatterplot(data=df, x='A', y='B', hue=labels, **scatter_kwargs);"
      ],
      "metadata": {
        "colab": {
          "base_uri": "https://localhost:8080/",
          "height": 513
        },
        "id": "kqu59t9vSHQJ",
        "outputId": "fc77ec70-67a2-4457-dbd3-bcc0f8df6b1c"
      },
      "execution_count": null,
      "outputs": [
        {
          "output_type": "display_data",
          "data": {
            "text/plain": [
              "<Figure size 864x576 with 1 Axes>"
            ],
            "image/png": "[encoded data removed]"
          },
          "metadata": {}
        }
      ]
    },
    {
      "cell_type": "code",
      "source": [
        "# Hierarchical clustering with scipy"
      ],
      "metadata": {
        "id": "4lx1PgxSdvXR"
      },
      "execution_count": null,
      "outputs": []
    },
    {
      "cell_type": "code",
      "source": [
        "Z = linkage(df, method='ward')\n",
        "dendrogram_dict = dendrogram(Z, color_threshold=10)\n",
        "plt.show()"
      ],
      "metadata": {
        "colab": {
          "base_uri": "https://localhost:8080/",
          "height": 490
        },
        "id": "NzMFwAZ4dqku",
        "outputId": "20962bec-969b-4bcd-869d-1c6ee9f998c4"
      },
      "execution_count": null,
      "outputs": [
        {
          "output_type": "display_data",
          "data": {
            "text/plain": [
              "<Figure size 864x576 with 1 Axes>"
            ],
            "image/png": "[encoded data removed]"
          },
          "metadata": {}
        }
      ]
    },
    {
      "cell_type": "code",
      "source": [
        "fcluster(Z, 4, criterion='maxclust')"
      ],
      "metadata": {
        "colab": {
          "base_uri": "https://localhost:8080/"
        },
        "id": "Ks2EJpSXT6Cy",
        "outputId": "3b2fea31-4768-4836-b973-6495a12ec314"
      },
      "execution_count": null,
      "outputs": [
        {
          "output_type": "execute_result",
          "data": {
            "text/plain": [
              "array([1, 3, 1, 2, 3, 4, 2, 3, 1, 2, 1, 3, 2, 4, 1, 4, 2, 4, 3, 4, 2, 3,\n",
              "       3, 2, 3, 1, 1, 3, 1, 1, 1, 4, 4, 3, 4, 3, 4, 4, 2, 1, 2, 2, 4, 3,\n",
              "       1, 2, 4, 2, 3, 1, 2, 4, 4, 3, 4, 3, 4, 4, 1, 4, 4, 1, 1, 2, 2, 2,\n",
              "       2, 4, 3, 1, 2, 2, 1, 3, 3, 4, 1, 1, 4, 2], dtype=int32)"
            ]
          },
          "metadata": {},
          "execution_count": 33
        }
      ]
    },
    {
      "cell_type": "code",
      "source": [
        "@interact(method=['single','complete','centroid', 'ward'])\n",
        "def plot_dendrogram(method):\n",
        "  Z = linkage(df, method=method)\n",
        "  dendrogram_dict = dendrogram(Z)\n",
        "  plt.show()"
      ],
      "metadata": {
        "colab": {
          "base_uri": "https://localhost:8080/",
          "height": 522,
          "referenced_widgets": [
            "82444cfc97a548149615e37cdf900373",
            "6b7b9efe3cf140dbb254db34afe50165",
            "787bc3f2d8224b549d0b42b01ea17595",
            "201adfcc2346420fb141afd28147d490",
            "f21aa62c2534481e8a8c9d055f3d9a9e",
            "df5ea6458c694bafbfa0b3cb60743cfd",
            "fe2af09f13cb4e4cb6bf1190f139800e"
          ]
        },
        "id": "qobA9BSAUWz9",
        "outputId": "2437156b-725d-47e2-e348-e5fec546faa6"
      },
      "execution_count": null,
      "outputs": [
        {
          "output_type": "display_data",
          "data": {
            "text/plain": [
              "interactive(children=(Dropdown(description='method', options=('single', 'complete', 'centroid', 'ward'), value…"
            ],
            "application/vnd.jupyter.widget-view+json": {
              "version_major": 2,
              "version_minor": 0,
              "model_id": "82444cfc97a548149615e37cdf900373"
            }
          },
          "metadata": {}
        }
      ]
    }
  ]
}